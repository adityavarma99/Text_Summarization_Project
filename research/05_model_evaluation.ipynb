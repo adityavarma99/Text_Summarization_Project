{
 "cells": [
  {
   "cell_type": "code",
   "execution_count": 1,
   "metadata": {},
   "outputs": [],
   "source": [
    "import os"
   ]
  },
  {
   "cell_type": "code",
   "execution_count": 2,
   "metadata": {},
   "outputs": [
    {
     "data": {
      "text/plain": [
       "'e:\\\\Text_summarization\\\\research'"
      ]
     },
     "execution_count": 2,
     "metadata": {},
     "output_type": "execute_result"
    }
   ],
   "source": [
    "%pwd"
   ]
  },
  {
   "cell_type": "code",
   "execution_count": 3,
   "metadata": {},
   "outputs": [],
   "source": [
    "os.chdir(\"../\")"
   ]
  },
  {
   "cell_type": "code",
   "execution_count": 4,
   "metadata": {},
   "outputs": [
    {
     "data": {
      "text/plain": [
       "'e:\\\\Text_summarization'"
      ]
     },
     "execution_count": 4,
     "metadata": {},
     "output_type": "execute_result"
    }
   ],
   "source": [
    "%pwd"
   ]
  },
  {
   "cell_type": "code",
   "execution_count": 5,
   "metadata": {},
   "outputs": [],
   "source": [
    "from dataclasses import dataclass\n",
    "from pathlib import Path\n",
    "\n",
    "\n",
    "@dataclass(frozen=True)\n",
    "class ModelEvaluationConfig:\n",
    "    root_dir: Path\n",
    "    data_path: Path\n",
    "    model_path: Path\n",
    "    tokenizer_path: Path\n",
    "    metric_file_name: Path"
   ]
  },
  {
   "cell_type": "code",
   "execution_count": 6,
   "metadata": {},
   "outputs": [],
   "source": [
    "from textSummarizer.constants import *\n",
    "from textSummarizer.utils.common import read_yaml, create_directories"
   ]
  },
  {
   "cell_type": "code",
   "execution_count": 7,
   "metadata": {},
   "outputs": [],
   "source": [
    "class ConfigurationManager:\n",
    "    def __init__(\n",
    "        self,\n",
    "        config_filepath = CONFIG_FILE_PATH,\n",
    "        params_filepath = PARAMS_FILE_PATH):\n",
    "\n",
    "        self.config = read_yaml(config_filepath)\n",
    "        self.params = read_yaml(params_filepath)\n",
    "\n",
    "        create_directories([self.config.artifacts_root])\n",
    "\n",
    "\n",
    "    \n",
    "    def get_model_evaluation_config(self) -> ModelEvaluationConfig:\n",
    "        config = self.config.model_evaluation\n",
    "\n",
    "        create_directories([config.root_dir])\n",
    "\n",
    "        model_evaluation_config = ModelEvaluationConfig(\n",
    "            root_dir=config.root_dir,\n",
    "            data_path=config.data_path,\n",
    "            model_path = config.model_path,\n",
    "            tokenizer_path = config.tokenizer_path,\n",
    "            metric_file_name = config.metric_file_name\n",
    "           \n",
    "        )\n",
    "\n",
    "        return model_evaluation_config"
   ]
  },
  {
   "cell_type": "code",
   "execution_count": 8,
   "metadata": {},
   "outputs": [
    {
     "name": "stdout",
     "output_type": "stream",
     "text": [
      "[2025-01-22 17:36:17,313: INFO: config: PyTorch version 2.5.1 available.]\n"
     ]
    }
   ],
   "source": [
    "from transformers import AutoModelForSeq2SeqLM, AutoTokenizer\n",
    "from datasets import load_dataset, load_from_disk\n",
    "import torch\n",
    "import pandas as pd\n",
    "from tqdm import tqdm\n",
    "\n",
    "\n",
    "\n",
    "from evaluate import load\n",
    "\n"
   ]
  },
  {
   "cell_type": "code",
   "execution_count": 9,
   "metadata": {},
   "outputs": [],
   "source": [
    "import os\n",
    "from transformers import AutoTokenizer, AutoModelForSeq2SeqLM\n",
    "from datasets import load_from_disk\n",
    "import pandas as pd\n",
    "import torch\n",
    "import evaluate  # Import the evaluate module instead of load_metric\n",
    "import logging\n",
    "from tqdm import tqdm\n",
    "\n",
    "\n",
    "class ModelEvaluation:\n",
    "    def __init__(self, config: ModelEvaluationConfig):\n",
    "        self.config = config\n",
    "        self.logger = logging.getLogger(__name__)\n",
    "        logging.basicConfig(level=logging.INFO)\n",
    "\n",
    "    def generate_batch_sized_chunks(self, list_of_elements, batch_size):\n",
    "        \"\"\"Split the dataset into smaller batches that we can process simultaneously.\n",
    "        Yield successive batch-sized chunks from list_of_elements.\"\"\"\n",
    "        for i in range(0, len(list_of_elements), batch_size):\n",
    "            yield list_of_elements[i: i + batch_size]\n",
    "\n",
    "    def calculate_metric_on_train_ds(self, dataset, metric, model, tokenizer, \n",
    "                                     batch_size=16, device=\"cuda\" if torch.cuda.is_available() else \"cpu\", \n",
    "                                     column_text=\"article\", \n",
    "                                     column_summary=\"highlights\"):\n",
    "        article_batches = list(self.generate_batch_sized_chunks(dataset[column_text], batch_size))\n",
    "        target_batches = list(self.generate_batch_sized_chunks(dataset[column_summary], batch_size))\n",
    "\n",
    "        for article_batch, target_batch in tqdm(\n",
    "            zip(article_batches, target_batches), total=len(article_batches)):\n",
    "            \n",
    "            # Tokenize the article batch\n",
    "            inputs = tokenizer(article_batch, max_length=1024, truncation=True, \n",
    "                               padding=\"max_length\", return_tensors=\"pt\")\n",
    "            \n",
    "            # Generate summaries using the model\n",
    "            summaries = model.generate(input_ids=inputs[\"input_ids\"].to(device),\n",
    "                                       attention_mask=inputs[\"attention_mask\"].to(device), \n",
    "                                       length_penalty=0.8, num_beams=8, max_length=128)\n",
    "            '''Parameter for length penalty ensures that the model does not generate sequences that are too long.'''\n",
    "            \n",
    "            # Decode the generated texts, clean up tokenization spaces\n",
    "            decoded_summaries = [tokenizer.decode(s, skip_special_tokens=True, \n",
    "                                                  clean_up_tokenization_spaces=True) \n",
    "                                 for s in summaries]\n",
    "            \n",
    "            decoded_summaries = [d.replace(\"\", \" \") for d in decoded_summaries]\n",
    "            \n",
    "            # Add the predictions and references to the metric\n",
    "            metric.add_batch(predictions=decoded_summaries, references=target_batch)\n",
    "            \n",
    "        # Compute and return the ROUGE scores\n",
    "        score = metric.compute()\n",
    "        return score\n",
    "\n",
    "    def evaluate(self):\n",
    "        device = \"cuda\" if torch.cuda.is_available() else \"cpu\"\n",
    "        \n",
    "        # Use absolute path to the tokenizer directory\n",
    "        tokenizer_path = os.path.abspath(self.config.tokenizer_path)\n",
    "        \n",
    "        # Ensure the tokenizer path exists\n",
    "        if not os.path.exists(tokenizer_path):\n",
    "            raise ValueError(f\"Tokenizer path does not exist: {tokenizer_path}\")\n",
    "        \n",
    "        # Load the tokenizer and model\n",
    "        self.logger.info(\"Loading tokenizer and model...\")\n",
    "        tokenizer = AutoTokenizer.from_pretrained(tokenizer_path)\n",
    "        model_t5 = AutoModelForSeq2SeqLM.from_pretrained(self.config.model_path).to(device)\n",
    "\n",
    "        # Load the dataset\n",
    "        self.logger.info(\"Loading dataset...\")\n",
    "        dataset_samsum_pt = load_from_disk(self.config.data_path)\n",
    "\n",
    "        # Subset the dataset (e.g., select the first 100 examples from the validation set)\n",
    "        subset_size = 100  # Adjust this to the desired size\n",
    "        tokenized_eval_dataset = dataset_samsum_pt[\"validation\"].select(range(subset_size))  # Take the first `subset_size` examples\n",
    "\n",
    "        # Calculate ROUGE scores\n",
    "        rouge_metric = evaluate.load(\"rouge\")\n",
    "\n",
    "        self.logger.info(\"Calculating ROUGE scores...\")\n",
    "        score = self.calculate_metric_on_train_ds(\n",
    "            dataset=tokenized_eval_dataset,\n",
    "            metric=rouge_metric,\n",
    "            model=model_t5,\n",
    "            tokenizer=tokenizer,\n",
    "            batch_size=2,\n",
    "            column_text=\"dialogue\",\n",
    "            column_summary=\"summary\"\n",
    "        )\n",
    "\n",
    "        # Format the results for saving\n",
    "        rouge_dict = {rn: score[rn] for rn in [\"rouge1\", \"rouge2\", \"rougeL\", \"rougeLsum\"]}  # Directly use the scores\n",
    "\n",
    "        # Save results to a CSV file in the model_evaluation folder\n",
    "        output_path = os.path.join(self.config.root_dir, \"metrics.csv\")  # Save in the artifacts/model_evaluation directory\n",
    "        df = pd.DataFrame([rouge_dict])  # Wrap in a list to create a single-row DataFrame\n",
    "        df.to_csv(output_path, index=False)\n",
    "\n",
    "        self.logger.info(f\"Evaluation metrics saved to {output_path}\")\n"
   ]
  },
  {
   "cell_type": "code",
   "execution_count": 10,
   "metadata": {},
   "outputs": [
    {
     "name": "stdout",
     "output_type": "stream",
     "text": [
      "[2025-01-22 17:36:18,922: INFO: common: yaml file: config\\config.yaml loaded successfully]\n",
      "[2025-01-22 17:36:18,938: INFO: common: yaml file: params.yaml loaded successfully]\n",
      "[2025-01-22 17:36:18,938: INFO: common: created directory at: artifacts]\n",
      "[2025-01-22 17:36:18,938: INFO: common: created directory at: artifacts/model_evaluation]\n",
      "[2025-01-22 17:36:18,949: INFO: 1685380873: Loading tokenizer and model...]\n",
      "[2025-01-22 17:36:19,296: INFO: 1685380873: Loading dataset...]\n",
      "[2025-01-22 17:36:22,298: INFO: 1685380873: Calculating ROUGE scores...]\n"
     ]
    },
    {
     "name": "stderr",
     "output_type": "stream",
     "text": [
      "100%|██████████| 50/50 [15:11<00:00, 18.23s/it]"
     ]
    },
    {
     "name": "stdout",
     "output_type": "stream",
     "text": [
      "[2025-01-22 17:51:33,791: INFO: rouge_scorer: Using default tokenizer.]\n"
     ]
    },
    {
     "name": "stderr",
     "output_type": "stream",
     "text": [
      "\n"
     ]
    },
    {
     "name": "stdout",
     "output_type": "stream",
     "text": [
      "[2025-01-22 17:51:34,499: INFO: 1685380873: Evaluation metrics saved to artifacts/model_evaluation\\metrics.csv]\n"
     ]
    }
   ],
   "source": [
    "try:\n",
    "    config = ConfigurationManager()\n",
    "    model_evaluation_config = config.get_model_evaluation_config()\n",
    "    model_evaluation_config = ModelEvaluation(config=model_evaluation_config)\n",
    "    model_evaluation_config.evaluate()\n",
    "except Exception as e:\n",
    "    raise e"
   ]
  },
  {
   "cell_type": "code",
   "execution_count": null,
   "metadata": {},
   "outputs": [],
   "source": []
  },
  {
   "cell_type": "code",
   "execution_count": null,
   "metadata": {},
   "outputs": [],
   "source": []
  },
  {
   "cell_type": "code",
   "execution_count": null,
   "metadata": {},
   "outputs": [],
   "source": []
  }
 ],
 "metadata": {
  "kernelspec": {
   "display_name": "TextSummarization",
   "language": "python",
   "name": "python3"
  },
  "language_info": {
   "codemirror_mode": {
    "name": "ipython",
    "version": 3
   },
   "file_extension": ".py",
   "mimetype": "text/x-python",
   "name": "python",
   "nbconvert_exporter": "python",
   "pygments_lexer": "ipython3",
   "version": "3.12.0"
  }
 },
 "nbformat": 4,
 "nbformat_minor": 2
}
