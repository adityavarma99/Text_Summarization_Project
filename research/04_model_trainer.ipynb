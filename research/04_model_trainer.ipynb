{
 "cells": [
  {
   "cell_type": "code",
   "execution_count": 1,
   "metadata": {},
   "outputs": [],
   "source": [
    "import os"
   ]
  },
  {
   "cell_type": "code",
   "execution_count": 2,
   "metadata": {},
   "outputs": [
    {
     "data": {
      "text/plain": [
       "'e:\\\\Data_Science\\\\Text_summarization\\\\research'"
      ]
     },
     "execution_count": 2,
     "metadata": {},
     "output_type": "execute_result"
    }
   ],
   "source": [
    "%pwd"
   ]
  },
  {
   "cell_type": "code",
   "execution_count": 3,
   "metadata": {},
   "outputs": [],
   "source": [
    "os.chdir(\"../\")"
   ]
  },
  {
   "cell_type": "code",
   "execution_count": 4,
   "metadata": {},
   "outputs": [
    {
     "data": {
      "text/plain": [
       "'e:\\\\Data_Science\\\\Text_summarization'"
      ]
     },
     "execution_count": 4,
     "metadata": {},
     "output_type": "execute_result"
    }
   ],
   "source": [
    "%pwd"
   ]
  },
  {
   "cell_type": "code",
   "execution_count": 5,
   "metadata": {},
   "outputs": [],
   "source": [
    "## update config.yaml"
   ]
  },
  {
   "cell_type": "code",
   "execution_count": 6,
   "metadata": {},
   "outputs": [],
   "source": [
    "from dataclasses import dataclass\n",
    "from pathlib import Path\n",
    "\n",
    "\n",
    "@dataclass(frozen=True)\n",
    "class ModelTrainerConfig:\n",
    "    root_dir: Path\n",
    "    data_path: Path\n",
    "    model_ckpt: Path\n",
    "    num_train_epochs: int\n",
    "    warmup_steps: int\n",
    "    per_device_train_batch_size: int\n",
    "    weight_decay: float\n",
    "    logging_steps: int\n",
    "    evaluation_strategy: str\n",
    "    eval_steps: int\n",
    "    save_steps: float\n",
    "    gradient_accumulation_steps: int"
   ]
  },
  {
   "cell_type": "code",
   "execution_count": 7,
   "metadata": {},
   "outputs": [],
   "source": [
    "from textSummarizer.constants import *\n",
    "from textSummarizer.utils.common import read_yaml, create_directories"
   ]
  },
  {
   "cell_type": "code",
   "execution_count": 8,
   "metadata": {},
   "outputs": [],
   "source": [
    "class ConfigurationManager:\n",
    "    def __init__(\n",
    "        self,\n",
    "        config_filepath = CONFIG_FILE_PATH,\n",
    "        params_filepath = PARAMS_FILE_PATH):\n",
    "\n",
    "        self.config = read_yaml(config_filepath)\n",
    "        self.params = read_yaml(params_filepath)\n",
    "\n",
    "        create_directories([self.config.artifacts_root])\n",
    "\n",
    "\n",
    "    \n",
    "    def get_model_trainer_config(self) -> ModelTrainerConfig:\n",
    "        config = self.config.model_trainer\n",
    "        params = self.params.TrainingArguments\n",
    "\n",
    "        create_directories([config.root_dir])\n",
    "\n",
    "        model_trainer_config = ModelTrainerConfig(\n",
    "            root_dir=config.root_dir,\n",
    "            data_path=config.data_path,\n",
    "            model_ckpt = config.model_ckpt,\n",
    "            num_train_epochs = params.num_train_epochs,\n",
    "            warmup_steps = params.warmup_steps,\n",
    "            per_device_train_batch_size = params.per_device_train_batch_size,\n",
    "            weight_decay = params.weight_decay,\n",
    "            logging_steps = params.logging_steps,\n",
    "            evaluation_strategy = params.evaluation_strategy,\n",
    "            eval_steps = params.evaluation_strategy,\n",
    "            save_steps = params.save_steps,\n",
    "            gradient_accumulation_steps = params.gradient_accumulation_steps\n",
    "        )\n",
    "\n",
    "        return model_trainer_config"
   ]
  },
  {
   "cell_type": "code",
   "execution_count": 9,
   "metadata": {},
   "outputs": [
    {
     "name": "stdout",
     "output_type": "stream",
     "text": [
      "[2025-01-21 20:01:18,988: INFO: config: PyTorch version 2.5.1 available.]\n"
     ]
    }
   ],
   "source": [
    "from transformers import TrainingArguments, Trainer\n",
    "from transformers import DataCollatorForSeq2Seq\n",
    "from transformers import AutoModelForSeq2SeqLM, AutoTokenizer\n",
    "from datasets import load_dataset, load_from_disk\n",
    "import torch"
   ]
  },
  {
   "cell_type": "code",
   "execution_count": null,
   "metadata": {},
   "outputs": [
    {
     "name": "stdout",
     "output_type": "stream",
     "text": [
      "[2025-01-21 20:01:21,156: INFO: 1061650405: Initializing ConfigurationManager...]\n",
      "[2025-01-21 20:01:21,164: INFO: common: yaml file: config\\config.yaml loaded successfully]\n",
      "[2025-01-21 20:01:21,170: INFO: common: yaml file: params.yaml loaded successfully]\n",
      "[2025-01-21 20:01:21,173: INFO: common: created directory at: artifacts]\n"
     ]
    },
    {
     "name": "stdout",
     "output_type": "stream",
     "text": [
      "[2025-01-21 20:01:21,173: INFO: common: created directory at: artifacts/model_trainer]\n",
      "[2025-01-21 20:01:21,173: INFO: 1061650405: Configuration loaded successfully.]\n",
      "[2025-01-21 20:01:21,181: INFO: 1061650405: Starting the model training process.]\n",
      "[2025-01-21 20:01:21,184: INFO: 1061650405: Starting training process...]\n",
      "[2025-01-21 20:01:21,457: INFO: 1061650405: Using device: cpu]\n",
      "[2025-01-21 20:01:21,459: INFO: 1061650405: Loading tokenizer and model from checkpoint: google/pegasus-cnn_dailymail]\n"
     ]
    },
    {
     "name": "stderr",
     "output_type": "stream",
     "text": [
      "Some weights of PegasusForConditionalGeneration were not initialized from the model checkpoint at google/pegasus-cnn_dailymail and are newly initialized: ['model.decoder.embed_positions.weight', 'model.encoder.embed_positions.weight']\n",
      "You should probably TRAIN this model on a down-stream task to be able to use it for predictions and inference.\n"
     ]
    },
    {
     "name": "stdout",
     "output_type": "stream",
     "text": [
      "[2025-01-21 20:01:37,388: INFO: 1061650405: Preparing data collator.]\n",
      "[2025-01-21 20:01:37,388: INFO: 1061650405: Loading dataset from: artifacts/data_transformation/samsum_dataset]\n",
      "[2025-01-21 20:01:38,437: INFO: 1061650405: Dataset loaded. Train size: 6, Validation size: 2]\n",
      "[2025-01-21 20:01:38,437: INFO: 1061650405: Setting up training arguments.]\n",
      "[2025-01-21 20:01:38,462: INFO: 1061650405: Training arguments configured.]\n",
      "[2025-01-21 20:01:38,467: INFO: 1061650405: Initializing Trainer.]\n",
      "[2025-01-21 20:01:38,506: INFO: 1061650405: Starting training...]\n"
     ]
    },
    {
     "name": "stderr",
     "output_type": "stream",
     "text": [
      "c:\\Users\\ADITYA\\anaconda3\\envs\\TextSummarization\\Lib\\site-packages\\transformers\\training_args.py:1575: FutureWarning: `evaluation_strategy` is deprecated and will be removed in version 4.46 of 🤗 Transformers. Use `eval_strategy` instead\n",
      "  warnings.warn(\n",
      "C:\\Users\\ADITYA\\AppData\\Local\\Temp\\ipykernel_12184\\1061650405.py:73: FutureWarning: `tokenizer` is deprecated and will be removed in version 5.0.0 for `Trainer.__init__`. Use `processing_class` instead.\n",
      "  trainer = Trainer(\n"
     ]
    },
    {
     "data": {
      "text/html": [
       "\n",
       "    <div>\n",
       "      \n",
       "      <progress value='1' max='1' style='width:300px; height:20px; vertical-align: middle;'></progress>\n",
       "      [1/1 03:43, Epoch 1/1]\n",
       "    </div>\n",
       "    <table border=\"1\" class=\"dataframe\">\n",
       "  <thead>\n",
       " <tr style=\"text-align: left;\">\n",
       "      <th>Step</th>\n",
       "      <th>Training Loss</th>\n",
       "      <th>Validation Loss</th>\n",
       "    </tr>\n",
       "  </thead>\n",
       "  <tbody>\n",
       "  </tbody>\n",
       "</table><p>"
      ],
      "text/plain": [
       "<IPython.core.display.HTML object>"
      ]
     },
     "metadata": {},
     "output_type": "display_data"
    },
    {
     "name": "stderr",
     "output_type": "stream",
     "text": [
      "c:\\Users\\ADITYA\\anaconda3\\envs\\TextSummarization\\Lib\\site-packages\\transformers\\modeling_utils.py:2758: UserWarning: Moving the following attributes in the config to the generation config: {'max_length': 128, 'min_length': 32, 'num_beams': 8, 'length_penalty': 0.8}. You are seeing this warning because you've set generation parameters in the model config, as opposed to in the generation config.\n",
      "  warnings.warn(\n"
     ]
    },
    {
     "name": "stdout",
     "output_type": "stream",
     "text": [
      "[2025-01-21 20:07:13,500: INFO: 1061650405: Training completed successfully.]\n",
      "[2025-01-21 20:07:13,974: INFO: 1061650405: Saving the trained model and tokenizer.]\n",
      "[2025-01-21 20:10:35,810: INFO: 1061650405: Model and tokenizer saved to artifacts/model_trainer.]\n"
     ]
    }
   ],
   "source": [
    "import logging\n",
    "from transformers import AutoTokenizer, AutoModelForSeq2SeqLM, Trainer, TrainingArguments\n",
    "from transformers import DataCollatorForSeq2Seq\n",
    "import torch\n",
    "import os\n",
    "from datasets import load_from_disk\n",
    "\n",
    "class ModelTrainer:\n",
    "    def __init__(self, config):\n",
    "        self.config = config\n",
    "\n",
    "    def freeze_layers(self, model, freeze_all_except_last=True):\n",
    "        \"\"\" Freeze all layers except for the last one \"\"\"\n",
    "        for name, param in model.named_parameters():\n",
    "            if freeze_all_except_last and 'encoder' in name:  # Freeze encoder layers\n",
    "                param.requires_grad = False\n",
    "            elif freeze_all_except_last and 'decoder' in name:  # Freeze decoder layers\n",
    "                param.requires_grad = False\n",
    "            else:\n",
    "                param.requires_grad = True  # Leave the last layer trainable\n",
    "\n",
    "    def train(self):\n",
    "        logging.info(\"Starting training process...\")\n",
    "        os.environ[\"TRANSFORMERS_CACHE\"] = \"C:/Users/ADITYA/.cache\"\n",
    "        device = \"cpu\"  # Explicitly use CPU\n",
    "        torch.set_num_threads(4)  # Limit to 4 threads (can increase if you have more cores)\n",
    "        logging.info(\"Using device: %s\", device)\n",
    "\n",
    "        # Load tokenizer and model\n",
    "        logging.info(\"Loading tokenizer and model from checkpoint: %s\", self.config.model_ckpt)\n",
    "        tokenizer = AutoTokenizer.from_pretrained(self.config.model_ckpt)\n",
    "        model = AutoModelForSeq2SeqLM.from_pretrained(self.config.model_ckpt).to(device)\n",
    "\n",
    "        # Freeze layers\n",
    "        self.freeze_layers(model)\n",
    "\n",
    "        # Data collator for padding and batch creation\n",
    "        logging.info(\"Preparing data collator.\")\n",
    "        data_collator = DataCollatorForSeq2Seq(tokenizer, model=model)\n",
    "        \n",
    "        # Load dataset and select a subset\n",
    "        logging.info(\"Loading dataset from: %s\", self.config.data_path)\n",
    "        dataset = load_from_disk(self.config.data_path)\n",
    "        dataset[\"train\"] = dataset[\"train\"].select(range(6))  # Train on 6 samples\n",
    "        dataset[\"validation\"] = dataset[\"validation\"].select(range(2))  # Validate on 2 samples\n",
    "        logging.info(\"Dataset loaded. Train size: %d, Validation size: %d\", len(dataset[\"train\"]), len(dataset[\"validation\"]))\n",
    "\n",
    "        # Define training arguments with optimization\n",
    "        logging.info(\"Setting up training arguments.\")\n",
    "        trainer_args = TrainingArguments(\n",
    "            output_dir=self.config.root_dir,\n",
    "            num_train_epochs=0.1,\n",
    "            per_device_train_batch_size=1,\n",
    "            per_device_eval_batch_size=1,\n",
    "            save_steps=1000,\n",
    "            save_total_limit=1,\n",
    "            evaluation_strategy='steps',\n",
    "            logging_steps=500,\n",
    "            gradient_accumulation_steps=8,\n",
    "            fp16=True,  # Mixed precision\n",
    "            remove_unused_columns=True,\n",
    "            load_best_model_at_end=True,  # Save best model during training\n",
    "            dataloader_num_workers=4,  # Parallelize data loading if possible\n",
    "            run_name=\"optimized_training_run\",  # Optional: Track the run in a specific way\n",
    "        )\n",
    "        logging.info(\"Training arguments configured.\")\n",
    "\n",
    "        # Enable gradient checkpointing if supported\n",
    "        model.gradient_checkpointing_enable()\n",
    "\n",
    "        # Initialize the Trainer\n",
    "        logging.info(\"Initializing Trainer.\")\n",
    "        trainer = Trainer(\n",
    "            model=model,\n",
    "            args=trainer_args,\n",
    "            tokenizer=tokenizer,\n",
    "            data_collator=data_collator,\n",
    "            train_dataset=dataset[\"train\"],\n",
    "            eval_dataset=dataset[\"validation\"],\n",
    "        )\n",
    "\n",
    "        # Train the model\n",
    "        logging.info(\"Starting training...\")\n",
    "        try:\n",
    "            trainer.train()\n",
    "            logging.info(\"Training completed successfully.\")\n",
    "        except Exception as e:\n",
    "            logging.error(\"An error occurred during training: %s\", str(e))\n",
    "            raise\n",
    "\n",
    "        # Save the trained model and tokenizer\n",
    "        logging.info(\"Saving the trained model and tokenizer.\")\n",
    "        model.save_pretrained(os.path.join(self.config.root_dir, \"pegasus-samsum-model\"))\n",
    "        tokenizer.save_pretrained(os.path.join(self.config.root_dir, \"tokenizer\"))\n",
    "        logging.info(\"Model and tokenizer saved to %s.\", self.config.root_dir)\n",
    "\n",
    "# Main script to execute training\n",
    "try:\n",
    "    logging.info(\"Initializing ConfigurationManager...\")\n",
    "    # Initialize the configuration manager\n",
    "    config = ConfigurationManager()\n",
    "    \n",
    "    # Get the model trainer configuration\n",
    "    model_trainer_config = config.get_model_trainer_config()\n",
    "    logging.info(\"Configuration loaded successfully.\")\n",
    "\n",
    "    # Pass the configuration to the ModelTrainer\n",
    "    model_trainer = ModelTrainer(config=model_trainer_config)\n",
    "    \n",
    "    # Train the model\n",
    "    logging.info(\"Starting the model training process.\")\n",
    "    model_trainer.train()\n",
    "except Exception as e:\n",
    "    # Print the error message for debugging\n",
    "    logging.critical(\"Critical error in training pipeline: %s\", str(e))\n",
    "    raise\n"
   ]
  },
  {
   "cell_type": "code",
   "execution_count": 11,
   "metadata": {},
   "outputs": [
    {
     "data": {
      "text/plain": [
       "'\\ntry:\\n    # Initialize the configuration manager\\n    config = ConfigurationManager()\\n    \\n    # Get the model trainer configuration\\n    model_trainer_config = config.get_model_trainer_config()\\n    \\n    # Pass the configuration to the ModelTrainer\\n    model_trainer = ModelTrainer(config=model_trainer_config)  # Changed variable to `model_trainer`\\n    \\n    # Set Hugging Face cache directory\\n    os.environ[\"TRANSFORMERS_CACHE\"] = \"C:/Users/ADITYA/.cache\"  # Replace with your cache directory\\n    \\n    # Train the model\\n    model_trainer.train()\\nexcept Exception as e:\\n    # Print the error message for debugging\\n    print(f\"An error occurred: {e}\")\\n    raise e'"
      ]
     },
     "execution_count": 11,
     "metadata": {},
     "output_type": "execute_result"
    }
   ],
   "source": [
    "'''\n",
    "try:\n",
    "    # Initialize the configuration manager\n",
    "    config = ConfigurationManager()\n",
    "    \n",
    "    # Get the model trainer configuration\n",
    "    model_trainer_config = config.get_model_trainer_config()\n",
    "    \n",
    "    # Pass the configuration to the ModelTrainer\n",
    "    model_trainer = ModelTrainer(config=model_trainer_config)  # Changed variable to `model_trainer`\n",
    "    \n",
    "    # Set Hugging Face cache directory\n",
    "    os.environ[\"TRANSFORMERS_CACHE\"] = \"C:/Users/ADITYA/.cache\"  # Replace with your cache directory\n",
    "    \n",
    "    # Train the model\n",
    "    model_trainer.train()\n",
    "except Exception as e:\n",
    "    # Print the error message for debugging\n",
    "    print(f\"An error occurred: {e}\")\n",
    "    raise e'''"
   ]
  },
  {
   "cell_type": "code",
   "execution_count": 12,
   "metadata": {},
   "outputs": [
    {
     "data": {
      "text/plain": [
       "'\\ntry:\\n    config = ConfigurationManager()\\n    model_trainer_config = config.get_model_trainer_config()\\n    model_trainer_config = ModelTrainer(config=model_trainer_config)\\n    model_trainer_config.train()\\nexcept Exception as e:\\n    raise e\\n'"
      ]
     },
     "execution_count": 12,
     "metadata": {},
     "output_type": "execute_result"
    }
   ],
   "source": [
    "'''\n",
    "try:\n",
    "    config = ConfigurationManager()\n",
    "    model_trainer_config = config.get_model_trainer_config()\n",
    "    model_trainer_config = ModelTrainer(config=model_trainer_config)\n",
    "    model_trainer_config.train()\n",
    "except Exception as e:\n",
    "    raise e\n",
    "'''"
   ]
  },
  {
   "cell_type": "code",
   "execution_count": 13,
   "metadata": {},
   "outputs": [
    {
     "data": {
      "text/plain": [
       "'\\nimport os\\nfrom transformers import PegasusForConditionalGeneration, PegasusTokenizer\\n\\n# Set custom cache directory\\ncache_dir = \"E:/Data science/transformers_cache\"\\nos.environ[\"TRANSFORMERS_CACHE\"] = cache_dir\\n\\ntry:\\n    # Initialize ConfigurationManager and get model trainer config\\n    config = ConfigurationManager()\\n    model_trainer_config = config.get_model_trainer_config()\\n\\n    # Load Pegasus model and tokenizer from the same cache directory\\n    model_name = \"google/pegasus-cnn_dailymail\"\\n    tokenizer = PegasusTokenizer.from_pretrained(model_name, cache_dir=cache_dir)\\n    model = PegasusForConditionalGeneration.from_pretrained(model_name, cache_dir=cache_dir)\\n\\n    # Pass the configuration to the ModelTrainer and train the model\\n    model_trainer_config = ModelTrainer(config=model_trainer_config)\\n    model_trainer_config.train()\\n\\nexcept Exception as e:\\n    raise e\\n'"
      ]
     },
     "execution_count": 13,
     "metadata": {},
     "output_type": "execute_result"
    }
   ],
   "source": [
    "'''\n",
    "import os\n",
    "from transformers import PegasusForConditionalGeneration, PegasusTokenizer\n",
    "\n",
    "# Set custom cache directory\n",
    "cache_dir = \"E:/Data science/transformers_cache\"\n",
    "os.environ[\"TRANSFORMERS_CACHE\"] = cache_dir\n",
    "\n",
    "try:\n",
    "    # Initialize ConfigurationManager and get model trainer config\n",
    "    config = ConfigurationManager()\n",
    "    model_trainer_config = config.get_model_trainer_config()\n",
    "\n",
    "    # Load Pegasus model and tokenizer from the same cache directory\n",
    "    model_name = \"google/pegasus-cnn_dailymail\"\n",
    "    tokenizer = PegasusTokenizer.from_pretrained(model_name, cache_dir=cache_dir)\n",
    "    model = PegasusForConditionalGeneration.from_pretrained(model_name, cache_dir=cache_dir)\n",
    "\n",
    "    # Pass the configuration to the ModelTrainer and train the model\n",
    "    model_trainer_config = ModelTrainer(config=model_trainer_config)\n",
    "    model_trainer_config.train()\n",
    "\n",
    "except Exception as e:\n",
    "    raise e\n",
    "'''"
   ]
  },
  {
   "cell_type": "code",
   "execution_count": null,
   "metadata": {},
   "outputs": [],
   "source": []
  },
  {
   "cell_type": "code",
   "execution_count": null,
   "metadata": {},
   "outputs": [],
   "source": []
  }
 ],
 "metadata": {
  "kernelspec": {
   "display_name": "TextSummarization",
   "language": "python",
   "name": "python3"
  },
  "language_info": {
   "codemirror_mode": {
    "name": "ipython",
    "version": 3
   },
   "file_extension": ".py",
   "mimetype": "text/x-python",
   "name": "python",
   "nbconvert_exporter": "python",
   "pygments_lexer": "ipython3",
   "version": "3.12.0"
  }
 },
 "nbformat": 4,
 "nbformat_minor": 2
}
